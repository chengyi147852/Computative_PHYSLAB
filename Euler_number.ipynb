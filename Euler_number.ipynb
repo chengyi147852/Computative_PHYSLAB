{
 "cells": [
  {
   "cell_type": "code",
   "execution_count": 1,
   "id": "ac2668fe-dc39-42d7-88e8-da4340f7b8b5",
   "metadata": {},
   "outputs": [],
   "source": [
    "import numpy as np"
   ]
  },
  {
   "cell_type": "code",
   "execution_count": 2,
   "id": "776b6f7c-1cf3-4b11-ae13-84ba8c527094",
   "metadata": {},
   "outputs": [
    {
     "name": "stdout",
     "output_type": "stream",
     "text": [
      " Euler number is approximate: 2.718281828459045\n"
     ]
    }
   ],
   "source": [
    "print(\" Euler number is approximate:\",np.e)"
   ]
  },
  {
   "cell_type": "code",
   "execution_count": null,
   "id": "5f16ebfc-aeaa-4668-a6d8-34d0f5cadb77",
   "metadata": {},
   "outputs": [],
   "source": []
  }
 ],
 "metadata": {
  "kernelspec": {
   "display_name": "Python 3 (ipykernel)",
   "language": "python",
   "name": "python3"
  },
  "language_info": {
   "codemirror_mode": {
    "name": "ipython",
    "version": 3
   },
   "file_extension": ".py",
   "mimetype": "text/x-python",
   "name": "python",
   "nbconvert_exporter": "python",
   "pygments_lexer": "ipython3",
   "version": "3.9.12"
  }
 },
 "nbformat": 4,
 "nbformat_minor": 5
}
