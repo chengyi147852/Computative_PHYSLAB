{
 "cells": [
  {
   "cell_type": "code",
   "execution_count": 1,
   "id": "dbfcc387-c813-49bd-bfe9-367749eaa404",
   "metadata": {},
   "outputs": [],
   "source": [
    "import numpy as np"
   ]
  },
  {
   "cell_type": "code",
   "execution_count": 2,
   "id": "500e4978-2bf9-471d-a354-0ee714470625",
   "metadata": {},
   "outputs": [],
   "source": [
    "import matplotlib"
   ]
  },
  {
   "cell_type": "code",
   "execution_count": 3,
   "id": "ddd8e3a5-bac4-423e-a08f-55ca03d9791e",
   "metadata": {},
   "outputs": [],
   "source": [
    "import scipy"
   ]
  },
  {
   "cell_type": "code",
   "execution_count": 4,
   "id": "0579ae91-0558-4c11-8967-e6089074b89a",
   "metadata": {},
   "outputs": [
    {
     "name": "stdout",
     "output_type": "stream",
     "text": [
      " Hello Python and computataive physics course\n"
     ]
    }
   ],
   "source": [
    "print(\" Hello Python and computataive physics course\")"
   ]
  },
  {
   "cell_type": "code",
   "execution_count": 5,
   "id": "5cb59759-13e3-49c4-bd11-55929d55aa8f",
   "metadata": {},
   "outputs": [
    {
     "name": "stdout",
     "output_type": "stream",
     "text": [
      " Pi is  3.141592653589793\n"
     ]
    }
   ],
   "source": [
    "print(\" Pi is \",np.pi)"
   ]
  },
  {
   "cell_type": "code",
   "execution_count": null,
   "id": "12b25ef5-4ccf-45fc-a643-83ee313cdafb",
   "metadata": {},
   "outputs": [],
   "source": []
  }
 ],
 "metadata": {
  "kernelspec": {
   "display_name": "Python 3 (ipykernel)",
   "language": "python",
   "name": "python3"
  },
  "language_info": {
   "codemirror_mode": {
    "name": "ipython",
    "version": 3
   },
   "file_extension": ".py",
   "mimetype": "text/x-python",
   "name": "python",
   "nbconvert_exporter": "python",
   "pygments_lexer": "ipython3",
   "version": "3.9.12"
  }
 },
 "nbformat": 4,
 "nbformat_minor": 5
}
